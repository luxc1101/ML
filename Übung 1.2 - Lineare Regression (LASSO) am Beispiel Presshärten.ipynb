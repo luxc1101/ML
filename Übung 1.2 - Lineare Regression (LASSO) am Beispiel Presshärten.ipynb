{
 "cells": [
  {
   "cell_type": "markdown",
   "metadata": {},
   "source": [
    "# Übung 1.2 - Lineare Regression (LASSO) am Beispiel Presshärten \n",
    "VO Maschinelles Lernen in der Produktion, WS2019/20, Moritz von Unold, Richard Lux\n",
    "\n",
    "#### In diesem Notebook wird das Verfahren Lineare Regression mit LASSO anhand des Anwendungsbeispiels Presshärten geübt."
   ]
  },
  {
   "cell_type": "markdown",
   "metadata": {},
   "source": [
    "![alt text](Prozess_Modellentwicklung_v2.png \"Title\")"
   ]
  },
  {
   "cell_type": "markdown",
   "metadata": {},
   "source": [
    "#### 0. Bibliotheken importieren\n",
    "\n",
    "#### 1. Daten erfassen\n",
    "- Daten importieren\n",
    "\n",
    "#### 2. Daten erkunden\n",
    "- Daten tabellarisch darstellen\n",
    "- statistische Kennzahlen der Daten berechnen\n",
    "\n",
    "#### 3. Daten vorbereiten\n",
    "- Daten in Trainings- und Testdaten aufteilen\n",
    "\n",
    "#### 4. Modelle bilden (hier nur 1 Modell)\n",
    "- Mögliche Hyperparameter (Modell-Parameter) anzeigen\n",
    "- Modell erstellen (untrainiert)\n",
    "- Modell anhand Trainingsdaten trainieren\n",
    "\n",
    "#### 5. (Modelle validieren)\n",
    "- Da nur ein Modell erstellt wird entfällt dieser Schritt\n",
    "\n",
    "#### 6. Modell testen & anwenden\n",
    "- Berechnung der Modellvorhersage auf den Testdaten\n",
    "- Bewertung der Modellgüte mittels Graph (Y/Y_pred)\n",
    "- Bewertung der Modellgüte mittles MAE\n",
    "\n",
    "#### 7. Visualisierung Zusammenhang alpha-Wert und MAE\n",
    "- Trainieren und Testen von 30 Modellen mit unterschiedlichen alpha-Werten"
   ]
  },
  {
   "cell_type": "markdown",
   "metadata": {},
   "source": [
    "### 0. Bibliotheken importieren"
   ]
  },
  {
   "cell_type": "code",
   "execution_count": 1,
   "metadata": {},
   "outputs": [],
   "source": [
    "# 0. Code-Block\n",
    "\n",
    "# Importiere benötigte Bibliotheken\n",
    "import pandas as pd\n",
    "import numpy as np\n",
    "import matplotlib.pyplot as plt\n",
    "\n",
    "pd.options.mode.chained_assignment = None\n",
    "%matplotlib inline"
   ]
  },
  {
   "cell_type": "markdown",
   "metadata": {},
   "source": [
    "### 1. Daten erfassen - Daten importieren\n",
    "\n",
    "TODO:\n",
    "- Wähle eine Zahl zwischen 1 und 100 für die Generierung deiner spezifischen Zufallszahlen  (1. Code-Block - Zeile 8)\n",
    "- Ausführen des 1. Code-Blocks (markieren und \"Run\" drücken)\n",
    "\n",
    "AUSGABE:\n",
    "- Gewählte Zufallszahl"
   ]
  },
  {
   "cell_type": "code",
   "execution_count": 9,
   "metadata": {},
   "outputs": [
    {
     "name": "stdout",
     "output_type": "stream",
     "text": [
      "\n",
      "Gewählte Zahl für Zufallszahlen: \t1\n"
     ]
    }
   ],
   "source": [
    "# 1. Code-Block\n",
    "\n",
    "# Erstelle eigene Zufallszahlen\n",
    "my_seed = 1\n",
    "\n",
    "# Lade Datensatz\n",
    "df = pd.read_excel(\"Presshärten_verrauscht_normiert.xlsx\")\n",
    "\n",
    "# Ausgabe gewählte Zufallszahlen\n",
    "print(\"\\nGewählte Zahl für Zufallszahlen: \\t\" + str(my_seed))"
   ]
  },
  {
   "cell_type": "markdown",
   "metadata": {},
   "source": [
    "### 2.1 Daten erkunden - Daten tabellarisch darstellen\n",
    "\n",
    "TODO:\n",
    "- Stell ein wie viele der letzten Tabellen-Zeilen du anzeigen möchtest (2. Code-Block - Zeile 4)\n",
    "- Ausführen des 2. Code-Blocks (markieren und \"Run\" drücken)\n",
    "\n",
    "AUSGABE:\n",
    "- Tabelle des Datensatzes"
   ]
  },
  {
   "cell_type": "code",
   "execution_count": 10,
   "metadata": {},
   "outputs": [
    {
     "data": {
      "text/html": [
       "<div>\n",
       "<style scoped>\n",
       "    .dataframe tbody tr th:only-of-type {\n",
       "        vertical-align: middle;\n",
       "    }\n",
       "\n",
       "    .dataframe tbody tr th {\n",
       "        vertical-align: top;\n",
       "    }\n",
       "\n",
       "    .dataframe thead th {\n",
       "        text-align: right;\n",
       "    }\n",
       "</style>\n",
       "<table border=\"1\" class=\"dataframe\">\n",
       "  <thead>\n",
       "    <tr style=\"text-align: right;\">\n",
       "      <th></th>\n",
       "      <th>Blechdicke</th>\n",
       "      <th>Transportdauer</th>\n",
       "      <th>Blechtemperatur</th>\n",
       "      <th>Umformdauer</th>\n",
       "      <th>Umformkraft</th>\n",
       "      <th>Abstand</th>\n",
       "      <th>Formtemperatur</th>\n",
       "      <th>Bauteilhärte</th>\n",
       "    </tr>\n",
       "  </thead>\n",
       "  <tbody>\n",
       "    <tr>\n",
       "      <th>994</th>\n",
       "      <td>0.453649</td>\n",
       "      <td>0.440747</td>\n",
       "      <td>0.344649</td>\n",
       "      <td>0.587909</td>\n",
       "      <td>0.282941</td>\n",
       "      <td>0.625996</td>\n",
       "      <td>0.633054</td>\n",
       "      <td>446.780593</td>\n",
       "    </tr>\n",
       "    <tr>\n",
       "      <th>995</th>\n",
       "      <td>0.018277</td>\n",
       "      <td>0.833913</td>\n",
       "      <td>0.794252</td>\n",
       "      <td>0.914972</td>\n",
       "      <td>0.458397</td>\n",
       "      <td>0.700290</td>\n",
       "      <td>0.592180</td>\n",
       "      <td>420.154108</td>\n",
       "    </tr>\n",
       "    <tr>\n",
       "      <th>996</th>\n",
       "      <td>0.770196</td>\n",
       "      <td>0.488467</td>\n",
       "      <td>0.738761</td>\n",
       "      <td>0.690141</td>\n",
       "      <td>0.944929</td>\n",
       "      <td>0.495163</td>\n",
       "      <td>0.358400</td>\n",
       "      <td>469.331860</td>\n",
       "    </tr>\n",
       "    <tr>\n",
       "      <th>997</th>\n",
       "      <td>0.498864</td>\n",
       "      <td>0.205670</td>\n",
       "      <td>0.465946</td>\n",
       "      <td>0.980991</td>\n",
       "      <td>0.620163</td>\n",
       "      <td>0.404376</td>\n",
       "      <td>0.757095</td>\n",
       "      <td>465.872932</td>\n",
       "    </tr>\n",
       "    <tr>\n",
       "      <th>998</th>\n",
       "      <td>0.586270</td>\n",
       "      <td>0.548669</td>\n",
       "      <td>0.814166</td>\n",
       "      <td>0.101223</td>\n",
       "      <td>0.841402</td>\n",
       "      <td>0.836565</td>\n",
       "      <td>0.619914</td>\n",
       "      <td>457.513305</td>\n",
       "    </tr>\n",
       "  </tbody>\n",
       "</table>\n",
       "</div>"
      ],
      "text/plain": [
       "     Blechdicke  Transportdauer  Blechtemperatur  Umformdauer  Umformkraft  \\\n",
       "994    0.453649        0.440747         0.344649     0.587909     0.282941   \n",
       "995    0.018277        0.833913         0.794252     0.914972     0.458397   \n",
       "996    0.770196        0.488467         0.738761     0.690141     0.944929   \n",
       "997    0.498864        0.205670         0.465946     0.980991     0.620163   \n",
       "998    0.586270        0.548669         0.814166     0.101223     0.841402   \n",
       "\n",
       "      Abstand  Formtemperatur  Bauteilhärte  \n",
       "994  0.625996        0.633054    446.780593  \n",
       "995  0.700290        0.592180    420.154108  \n",
       "996  0.495163        0.358400    469.331860  \n",
       "997  0.404376        0.757095    465.872932  \n",
       "998  0.836565        0.619914    457.513305  "
      ]
     },
     "execution_count": 10,
     "metadata": {},
     "output_type": "execute_result"
    }
   ],
   "source": [
    "# 2. Code-Block\n",
    "\n",
    "# Ausgabe der Daten in tabellarischer Form\n",
    "df.tail(5)"
   ]
  },
  {
   "cell_type": "markdown",
   "metadata": {},
   "source": [
    "### 2.2 Daten erkunden - statistische Kennzahlen der Daten berechnen\n",
    "\n",
    "Ausgabe der statistischen Kennzahlen aller Variablen.\n",
    "\n",
    "TODO:\n",
    "- Ausführen des 3. Code-Blocks (markieren und \"Run\" drücken)\n",
    "\n",
    "AUSGABE:\n",
    "- statistische Kennzahlen"
   ]
  },
  {
   "cell_type": "code",
   "execution_count": 11,
   "metadata": {},
   "outputs": [
    {
     "data": {
      "text/html": [
       "<div>\n",
       "<style scoped>\n",
       "    .dataframe tbody tr th:only-of-type {\n",
       "        vertical-align: middle;\n",
       "    }\n",
       "\n",
       "    .dataframe tbody tr th {\n",
       "        vertical-align: top;\n",
       "    }\n",
       "\n",
       "    .dataframe thead th {\n",
       "        text-align: right;\n",
       "    }\n",
       "</style>\n",
       "<table border=\"1\" class=\"dataframe\">\n",
       "  <thead>\n",
       "    <tr style=\"text-align: right;\">\n",
       "      <th></th>\n",
       "      <th>Blechdicke</th>\n",
       "      <th>Transportdauer</th>\n",
       "      <th>Blechtemperatur</th>\n",
       "      <th>Umformdauer</th>\n",
       "      <th>Umformkraft</th>\n",
       "      <th>Abstand</th>\n",
       "      <th>Formtemperatur</th>\n",
       "      <th>Bauteilhärte</th>\n",
       "    </tr>\n",
       "  </thead>\n",
       "  <tbody>\n",
       "    <tr>\n",
       "      <th>count</th>\n",
       "      <td>999.000000</td>\n",
       "      <td>999.000000</td>\n",
       "      <td>999.000000</td>\n",
       "      <td>999.000000</td>\n",
       "      <td>999.000000</td>\n",
       "      <td>999.000000</td>\n",
       "      <td>999.000000</td>\n",
       "      <td>999.000000</td>\n",
       "    </tr>\n",
       "    <tr>\n",
       "      <th>mean</th>\n",
       "      <td>0.500017</td>\n",
       "      <td>0.500008</td>\n",
       "      <td>0.499979</td>\n",
       "      <td>0.500009</td>\n",
       "      <td>0.500005</td>\n",
       "      <td>0.500007</td>\n",
       "      <td>0.500005</td>\n",
       "      <td>432.814644</td>\n",
       "    </tr>\n",
       "    <tr>\n",
       "      <th>std</th>\n",
       "      <td>0.289357</td>\n",
       "      <td>0.289343</td>\n",
       "      <td>0.289361</td>\n",
       "      <td>0.289323</td>\n",
       "      <td>0.289357</td>\n",
       "      <td>0.289362</td>\n",
       "      <td>0.289358</td>\n",
       "      <td>37.120606</td>\n",
       "    </tr>\n",
       "    <tr>\n",
       "      <th>min</th>\n",
       "      <td>0.000000</td>\n",
       "      <td>0.000000</td>\n",
       "      <td>0.000000</td>\n",
       "      <td>0.000000</td>\n",
       "      <td>0.000000</td>\n",
       "      <td>0.000000</td>\n",
       "      <td>0.000000</td>\n",
       "      <td>328.631002</td>\n",
       "    </tr>\n",
       "    <tr>\n",
       "      <th>25%</th>\n",
       "      <td>0.249762</td>\n",
       "      <td>0.249579</td>\n",
       "      <td>0.249829</td>\n",
       "      <td>0.249423</td>\n",
       "      <td>0.249832</td>\n",
       "      <td>0.249508</td>\n",
       "      <td>0.249452</td>\n",
       "      <td>405.306562</td>\n",
       "    </tr>\n",
       "    <tr>\n",
       "      <th>50%</th>\n",
       "      <td>0.500226</td>\n",
       "      <td>0.499556</td>\n",
       "      <td>0.500350</td>\n",
       "      <td>0.499702</td>\n",
       "      <td>0.499790</td>\n",
       "      <td>0.499635</td>\n",
       "      <td>0.499899</td>\n",
       "      <td>438.044693</td>\n",
       "    </tr>\n",
       "    <tr>\n",
       "      <th>75%</th>\n",
       "      <td>0.750045</td>\n",
       "      <td>0.750429</td>\n",
       "      <td>0.750292</td>\n",
       "      <td>0.750061</td>\n",
       "      <td>0.749908</td>\n",
       "      <td>0.750645</td>\n",
       "      <td>0.750665</td>\n",
       "      <td>463.420924</td>\n",
       "    </tr>\n",
       "    <tr>\n",
       "      <th>max</th>\n",
       "      <td>1.000000</td>\n",
       "      <td>1.000000</td>\n",
       "      <td>1.000000</td>\n",
       "      <td>1.000000</td>\n",
       "      <td>1.000000</td>\n",
       "      <td>1.000000</td>\n",
       "      <td>1.000000</td>\n",
       "      <td>505.083592</td>\n",
       "    </tr>\n",
       "  </tbody>\n",
       "</table>\n",
       "</div>"
      ],
      "text/plain": [
       "       Blechdicke  Transportdauer  Blechtemperatur  Umformdauer  Umformkraft  \\\n",
       "count  999.000000      999.000000       999.000000   999.000000   999.000000   \n",
       "mean     0.500017        0.500008         0.499979     0.500009     0.500005   \n",
       "std      0.289357        0.289343         0.289361     0.289323     0.289357   \n",
       "min      0.000000        0.000000         0.000000     0.000000     0.000000   \n",
       "25%      0.249762        0.249579         0.249829     0.249423     0.249832   \n",
       "50%      0.500226        0.499556         0.500350     0.499702     0.499790   \n",
       "75%      0.750045        0.750429         0.750292     0.750061     0.749908   \n",
       "max      1.000000        1.000000         1.000000     1.000000     1.000000   \n",
       "\n",
       "          Abstand  Formtemperatur  Bauteilhärte  \n",
       "count  999.000000      999.000000    999.000000  \n",
       "mean     0.500007        0.500005    432.814644  \n",
       "std      0.289362        0.289358     37.120606  \n",
       "min      0.000000        0.000000    328.631002  \n",
       "25%      0.249508        0.249452    405.306562  \n",
       "50%      0.499635        0.499899    438.044693  \n",
       "75%      0.750645        0.750665    463.420924  \n",
       "max      1.000000        1.000000    505.083592  "
      ]
     },
     "execution_count": 11,
     "metadata": {},
     "output_type": "execute_result"
    }
   ],
   "source": [
    "# 3. Code-Block\n",
    "\n",
    "# Zeige statistische Kennzahlen aller Variablen an\n",
    "df.describe()"
   ]
  },
  {
   "cell_type": "markdown",
   "metadata": {},
   "source": [
    "### 3.1 Daten vorbereiten - Aufteilen der Daten in Trainings- und Testdaten\n",
    "\n",
    "Der Datensatz wird in einen Trainingsdatensatz und einen Testdatensatz aufgeteilt:\n",
    "Übliche Werte sind für den Trainingsdatensatz 70 - 80% der Daten und für den Testdatensatz 20 - 30%.\n",
    "\n",
    "Mit dem Trainingsdatensatz wird das Regressionsmodell trainiert, der Testdatensatz dient dazu das trainierte Modell zu testen.\n",
    "\n",
    "TODO:\n",
    "- Setzte für train_size einen Wert zwischen 0.1 und 0.9 ein (4. Code-Block - Zeile 4)\n",
    "- Beispiel: Ein Wert von 0.8 bedeutet der Datensatz wird in 80% Trainingsdaten und 20% Testdaten unterteilt\n",
    "- Ausführen des 4. Code-Blocks (markieren und \"Run\" drücken)\n",
    "\n",
    "AUSGABE:\n",
    "- Größe der Datensätze\n",
    "- Ersten 3 Zeilen von X und von y"
   ]
  },
  {
   "cell_type": "code",
   "execution_count": 45,
   "metadata": {},
   "outputs": [
    {
     "name": "stdout",
     "output_type": "stream",
     "text": [
      "\n",
      "Anzahl Traingsdaten: \t899 / 999 \t(89.99%)\n",
      "Anzahl Testdaten: \t100 / 999 \t(10.01%)\n",
      "\n",
      "X: \n",
      "     Blechdicke  Transportdauer  Blechtemperatur  Umformdauer  Umformkraft  \\\n",
      "335    0.095434        0.902764         0.317976     0.908246     0.709540   \n",
      "13     0.624760        0.896085         0.771789     0.745839     0.171717   \n",
      "871    0.105383        0.545678         0.753259     0.495874     0.019050   \n",
      "\n",
      "      Abstand  Formtemperatur  \n",
      "335  0.177209        0.858608  \n",
      "13   0.499489        0.730104  \n",
      "871  0.650585        0.800728  \n",
      "\n",
      "y:\tBauteilhärte\n",
      "335    357.496848\n",
      "13     403.881300\n",
      "871    441.941499\n",
      "Name: Bauteilhärte, dtype: float64\n"
     ]
    }
   ],
   "source": [
    "# 4. Code-Block\n",
    "\n",
    "# Verhältnis Trainings- und Testdaten\n",
    "train_size = 0.9\n",
    "\n",
    "# Teile Datensatz in Trainings- und Testdatensatz auf\n",
    "from sklearn.model_selection import train_test_split\n",
    "\n",
    "X_train, X_test, y_train, y_test = train_test_split(\n",
    "    df.drop(columns=[\"Bauteilhärte\"]),\n",
    "    df[\"Bauteilhärte\"],\n",
    "    test_size=(1 - train_size),\n",
    "    random_state=my_seed,\n",
    ")\n",
    "\n",
    "# Ausgabe Datensätze und Anzahl Datenpunkte\n",
    "print(\n",
    "    \"\\nAnzahl Traingsdaten: \\t\"\n",
    "    + str(len(y_train))\n",
    "    + \" / \"\n",
    "    + str(len(df))\n",
    "    + \" \\t(\"\n",
    "    + str(\"%.2f\" % (100 * len(y_train) / len(df)))\n",
    "    + \"%)\"\n",
    ")\n",
    "print(\n",
    "    \"Anzahl Testdaten: \\t\"\n",
    "    + str(len(y_test))\n",
    "    + \" / \"\n",
    "    + str(len(df))\n",
    "    + \" \\t(\"\n",
    "    + str(\"%.2f\" % (100 * len(y_test) / len(df)))\n",
    "    + \"%)\"\n",
    ")\n",
    "print(\"\\nX: \\n\" + str(X_train.head(3)))\n",
    "print(\"\\ny:\\tBauteilhärte\\n\" + str(y_train.head(3)))"
   ]
  },
  {
   "cell_type": "markdown",
   "metadata": {},
   "source": [
    "### 4.1 Modelle bilden - Mögliche Hyperparameter anzeigen\n",
    "\n",
    "Vor der Erstellung eines Modells lassen wir uns zunächst alle einstellbaren Hyperparameter anzeigen.\n",
    "\n",
    "TODO:\n",
    "- Ausführen des 5. Code-Blocks (markieren und \"Run\" drücken)\n",
    "\n",
    "AUSGABE:\n",
    "- Mögliche Hyperparameter für die Erstellung des Linearen Modells"
   ]
  },
  {
   "cell_type": "code",
   "execution_count": 46,
   "metadata": {},
   "outputs": [
    {
     "data": {
      "text/plain": [
       "{'alpha': 1.0,\n",
       " 'copy_X': True,\n",
       " 'fit_intercept': True,\n",
       " 'max_iter': 1000,\n",
       " 'normalize': False,\n",
       " 'positive': False,\n",
       " 'precompute': False,\n",
       " 'random_state': None,\n",
       " 'selection': 'cyclic',\n",
       " 'tol': 0.0001,\n",
       " 'warm_start': False}"
      ]
     },
     "execution_count": 46,
     "metadata": {},
     "output_type": "execute_result"
    }
   ],
   "source": [
    "# 5. Code-Block\n",
    "\n",
    "# Ausgabe möglicher Hyperparameter\n",
    "from sklearn import linear_model\n",
    "\n",
    "linear_model.Lasso().get_params()"
   ]
  },
  {
   "cell_type": "markdown",
   "metadata": {},
   "source": [
    "Beschreibung der Hyperparameter:\n",
    "http://scikit-learn.org/stable/modules/generated/sklearn.linear_model.Lasso.html"
   ]
  },
  {
   "cell_type": "markdown",
   "metadata": {},
   "source": [
    "### 4.2 Modelle bilden - Modell erstellen (untrainiert)\n",
    "\n",
    "Wir erstellen ein Lineares LASSO-Modell. Diese enthält den zusätzlichen Hyperparameter 'alpha'. Alpha ist der Strafterm welcher das ausklammern von Variablen mit geringem Einfluss auf das Ergebnis ermöglicht.\n",
    "\n",
    "Als Hyperparameter werden neben dem Strafterm alpha, 'fit_intercept' als True eingestellt, da wir ein Regressionsmodell MIT Konstante berechnen wollen. Des Weiteren wird 'random_state' auf 'my_seed' eingestellt damit der Algorithmus mit unseren spezifischen Zufallszahlen arbeitet.\n",
    "\n",
    "TODO:\n",
    "- Wähle einen alpha-Wert zwischen 2 und 0.0000001, z.B: 0.1 (6. Code-Block - Zeile 4) \n",
    "- Setzte in die Klammer \"fit_intercept=True\" ein (6. Code-Block - Zeile 8)\n",
    "- Setzte in die Klammer \"random_state=my_seed\" ein (6. Code-Block - Zeile 8)\n",
    "- Setzte in die Klammer \"alpha=alpha\" ein (6. Code-Block - Zeile 8)\n",
    "- Ausführen des 6. Code-Blocks (markieren und \"Run\" drücken)\n",
    "\n",
    "AUSGABE:\n",
    "- Hyperparameter des erstellten Modells\n",
    "\n",
    "Versuche den alpha-Wert so einzustellen das das Modell aus 2-4 Variablen besteht (Anzahl Variablen im Modell siehe Ausgabe 4.3)."
   ]
  },
  {
   "cell_type": "code",
   "execution_count": 47,
   "metadata": {},
   "outputs": [
    {
     "data": {
      "text/plain": [
       "{'alpha': 0.01,\n",
       " 'copy_X': True,\n",
       " 'fit_intercept': True,\n",
       " 'max_iter': 1000,\n",
       " 'normalize': False,\n",
       " 'positive': False,\n",
       " 'precompute': False,\n",
       " 'random_state': 1,\n",
       " 'selection': 'cyclic',\n",
       " 'tol': 0.0001,\n",
       " 'warm_start': False}"
      ]
     },
     "execution_count": 47,
     "metadata": {},
     "output_type": "execute_result"
    }
   ],
   "source": [
    "# 6. Code-Block\n",
    "\n",
    "# Einstellen des alpha-Parameters (= Lasso-Strafterm)\n",
    "alpha = 0.01\n",
    "\n",
    "# Erstelle Lineares LASSO-Modell\n",
    "lasso = linear_model.Lasso( fit_intercept=True , random_state=my_seed , alpha=alpha)\n",
    "\n",
    "# Ausgabe Hyperparameter des Modells\n",
    "lasso.get_params()"
   ]
  },
  {
   "cell_type": "markdown",
   "metadata": {},
   "source": [
    "### 4.3 Modelle bilden - Modelle anhand Trainingsdaten trainieren\n",
    "\n",
    "Während des Trainings werden die Parameter des Modells/der Regressionsgerade angepasst sodass dieses die Daten des Trainingsdatensatzes abbildet (Gradientenverfahren). \n",
    "\n",
    "TODO:\n",
    "- Ausführen des 7. Code-Blocks (markieren und \"Run\" drücken)\n",
    "\n",
    "AUSGABE:\n",
    "- Gleichung der Regressionsgeraden\n",
    "- Graph: Einfluss der Input-Variablen auf die Bauteilhärte"
   ]
  },
  {
   "cell_type": "code",
   "execution_count": 48,
   "metadata": {},
   "outputs": [
    {
     "name": "stdout",
     "output_type": "stream",
     "text": [
      "\n",
      "Regressionsmodell: \n",
      "y = 460.135 + 2.214 * Blechdicke + -106.268 * Transportdauer + 56.453 * Blechtemperatur + 2.040 * Umformdauer + 7.103 * Umformkraft + 1.113 * Abstand + -17.480 * Formtemperatur\n"
     ]
    },
    {
     "data": {
      "text/plain": [
       "Text(0.5,1,'Einfluss der Variablen auf die Bauteilhärte')"
      ]
     },
     "execution_count": 48,
     "metadata": {},
     "output_type": "execute_result"
    },
    {
     "data": {
      "image/png": "[encoded data removed]",
      "text/plain": [
       "<Figure size 1152x432 with 1 Axes>"
      ]
     },
     "metadata": {
      "needs_background": "light"
     },
     "output_type": "display_data"
    }
   ],
   "source": [
    "# 7. Code-Block\n",
    "\n",
    "# Trainieren des Modells\n",
    "lasso.fit(X_train, y_train)\n",
    "\n",
    "# Ausgabe des Modells\n",
    "model_1 = \"y = \" + str(\"%.3f\" % lasso.intercept_)\n",
    "for i in range(len(lasso.coef_)):\n",
    "    model_1 += (\n",
    "        \" + \"\n",
    "        + str(\"%.3f\" % lasso.coef_[i])\n",
    "        + \" * \"\n",
    "        + str(list(X_train)[i])\n",
    "    )\n",
    "print(\"\\nRegressionsmodell: \\n\" + str(model_1))\n",
    "\n",
    "# Ausgabe Graph\n",
    "fig = plt.figure(figsize=(16, 6))\n",
    "plt.bar(list(X_train), lasso.coef_, align=\"center\")\n",
    "plt.title(\"Einfluss der Variablen auf die Bauteilhärte\")"
   ]
  },
  {
   "cell_type": "markdown",
   "metadata": {},
   "source": [
    "Wie viele Variablen sind noch im Modell enthalten (wurden also nicht durch den Lasso-Strafterm 0 gesetzt)?\n",
    "\n",
    "Versuche durch die Wahl eines geeigneten Lasso-Wertes (alpha) in Punkt 4.2 ein Modell mit 2-4 Variablen zu erstellen."
   ]
  },
  {
   "cell_type": "markdown",
   "metadata": {},
   "source": [
    "### 5. Validieren der Modelle - entfällt\n",
    "\n",
    "Dieser Schritt ist nur nötig wenn mehrere Modelle erstellt werden."
   ]
  },
  {
   "cell_type": "markdown",
   "metadata": {},
   "source": [
    "### 6.1 Modell testen & anwenden - Berechnung der Modellvorhersage auf den Testdaten\n",
    "\n",
    "Mit dem erstellten Modell wird eine Vorhersage für alle Testdaten berechnet und diese mit den realen Werten verglichen.\n",
    "\n",
    "TODO:\n",
    "- Stelle ein wie viele Zeilen des Ergebnisses du anzeigen lassen willst (8. Code-Block - Zeile 12)\n",
    "- Ausführen des 8. Code-Blocks (markieren und \"Run\" drücken)\n",
    "\n",
    "AUSGABE:\n",
    "- Tabelle Reale Bauteilhärte, Modell-Vorhersage der Bauteilhärte sowie die Abweichung"
   ]
  },
  {
   "cell_type": "code",
   "execution_count": 49,
   "metadata": {},
   "outputs": [
    {
     "name": "stdout",
     "output_type": "stream",
     "text": [
      "\n",
      "Modell-Vorhersage und reale Werte der Testdaten:\n"
     ]
    },
    {
     "data": {
      "text/html": [
       "<div>\n",
       "<style scoped>\n",
       "    .dataframe tbody tr th:only-of-type {\n",
       "        vertical-align: middle;\n",
       "    }\n",
       "\n",
       "    .dataframe tbody tr th {\n",
       "        vertical-align: top;\n",
       "    }\n",
       "\n",
       "    .dataframe thead th {\n",
       "        text-align: right;\n",
       "    }\n",
       "</style>\n",
       "<table border=\"1\" class=\"dataframe\">\n",
       "  <thead>\n",
       "    <tr style=\"text-align: right;\">\n",
       "      <th></th>\n",
       "      <th>Bauteilhärte</th>\n",
       "      <th>Vorhersage_Bauteilhärte</th>\n",
       "      <th>Abweichung_Vorhersage</th>\n",
       "    </tr>\n",
       "  </thead>\n",
       "  <tbody>\n",
       "    <tr>\n",
       "      <th>507</th>\n",
       "      <td>466.756436</td>\n",
       "      <td>467.642879</td>\n",
       "      <td>-0.886443</td>\n",
       "    </tr>\n",
       "    <tr>\n",
       "      <th>608</th>\n",
       "      <td>418.491638</td>\n",
       "      <td>419.698300</td>\n",
       "      <td>-1.206663</td>\n",
       "    </tr>\n",
       "    <tr>\n",
       "      <th>452</th>\n",
       "      <td>486.813705</td>\n",
       "      <td>476.404685</td>\n",
       "      <td>10.409020</td>\n",
       "    </tr>\n",
       "    <tr>\n",
       "      <th>368</th>\n",
       "      <td>364.774452</td>\n",
       "      <td>393.137458</td>\n",
       "      <td>-28.363006</td>\n",
       "    </tr>\n",
       "    <tr>\n",
       "      <th>242</th>\n",
       "      <td>398.743223</td>\n",
       "      <td>403.476488</td>\n",
       "      <td>-4.733265</td>\n",
       "    </tr>\n",
       "  </tbody>\n",
       "</table>\n",
       "</div>"
      ],
      "text/plain": [
       "     Bauteilhärte  Vorhersage_Bauteilhärte  Abweichung_Vorhersage\n",
       "507    466.756436               467.642879              -0.886443\n",
       "608    418.491638               419.698300              -1.206663\n",
       "452    486.813705               476.404685              10.409020\n",
       "368    364.774452               393.137458             -28.363006\n",
       "242    398.743223               403.476488              -4.733265"
      ]
     },
     "execution_count": 49,
     "metadata": {},
     "output_type": "execute_result"
    }
   ],
   "source": [
    "# 8. Code-Block\n",
    "\n",
    "# Berechne Modellvorhersage für jede Zeile des Test-Datensatzes\n",
    "results_test = pd.DataFrame(y_test)\n",
    "results_test[\"Vorhersage_Bauteilhärte\"] = lasso.predict(X_test)\n",
    "\n",
    "# Berechne Differenz: Realer Wert - Vorhersage\n",
    "results_test[\"Abweichung_Vorhersage\"] = (\n",
    "    results_test[\"Bauteilhärte\"] - results_test[\"Vorhersage_Bauteilhärte\"]\n",
    ")\n",
    "\n",
    "# Ausgabe Tabelle\n",
    "print(\"\\nModell-Vorhersage und reale Werte der Testdaten:\")\n",
    "results_test.head(5)"
   ]
  },
  {
   "cell_type": "markdown",
   "metadata": {},
   "source": [
    "### 6.2 Modell testen & anwenden - Bewertung der Modellgüte mittels Graph (Y/Y_pred)\n",
    "\n",
    "Graph der Modell-Vorhersage über den realen Werten.\n",
    "\n",
    "TODO:\n",
    "- Stelle die Größe des auszugebenden Graphen ein, z.B. figsize=(9, 8) (9. Code-Block - Zeile 5)\n",
    "\n",
    "(Die Größe ist in Zoll -> 1 Zoll = 2,54 cm)\n",
    "- Ausführen des 9. Code-Blocks (markieren und \"Run\" drücken)\n",
    "\n",
    "AUSGABE:\n",
    "- Tabelle mit realer Bauteilhärte, Modell-Vorhersage der Bauteilhärte sowie die Abweichung"
   ]
  },
  {
   "cell_type": "code",
   "execution_count": 50,
   "metadata": {},
   "outputs": [
    {
     "data": {
      "text/plain": [
       "Text(0.5,1,'Lineare Regression Lasso - Testdatensatz')"
      ]
     },
     "execution_count": 50,
     "metadata": {},
     "output_type": "execute_result"
    },
    {
     "data": {
      "image/png": "[encoded data removed]",
      "text/plain": [
       "<Figure size 648x432 with 1 Axes>"
      ]
     },
     "metadata": {
      "needs_background": "light"
     },
     "output_type": "display_data"
    }
   ],
   "source": [
    "# 9. Code-Block\n",
    "\n",
    "# Ausgabe Graph\n",
    "min_test, max_test = y_test.min(), y_test.max()\n",
    "fig = plt.figure(figsize=(9, 6))\n",
    "plt.plot(y_test, np.squeeze(lasso.predict(X_test)), \"o\", alpha=0.4)\n",
    "plt.plot([min_test, max_test], [min_test, max_test], \"--\", c=(0, 0, 0))\n",
    "plt.xlim(min_test - 0.2 * (max_test - min_test), max_test + 0.2 * (max_test - min_test))\n",
    "plt.ylim(min_test - 0.2 * (max_test - min_test), max_test + 0.2 * (max_test - min_test))\n",
    "plt.xlabel(\"reale Bauteilhärte\")\n",
    "plt.ylabel(\"vorhergesagte Bauteilhärte\")\n",
    "plt.title(\"Lineare Regression Lasso - Testdatensatz\")"
   ]
  },
  {
   "cell_type": "markdown",
   "metadata": {},
   "source": [
    "### 6.3 Modell testen & anwenden - Berechnung MAE\n",
    "\n",
    "Um die Güte des Regressionsmodells zu bestimmen wird der MAE (Mean-Absolut-Error) berechnet. \n",
    "\n",
    "TODO:\n",
    "- Ausführen des 10. Code-Blocks (markieren und \"Run\" drücken)\n",
    "\n",
    "AUSGABE:\n",
    "- MAE"
   ]
  },
  {
   "cell_type": "code",
   "execution_count": 51,
   "metadata": {
    "scrolled": true
   },
   "outputs": [
    {
     "name": "stdout",
     "output_type": "stream",
     "text": [
      "\n",
      "MAE: \t8.60706\n"
     ]
    }
   ],
   "source": [
    "# 10. Code-Block\n",
    "\n",
    "# Berechne MAE\n",
    "from sklearn.metrics import mean_absolute_error\n",
    "\n",
    "y_pred = lasso.predict(X_test)\n",
    "mae = mean_absolute_error(y_test, y_pred)\n",
    "\n",
    "# Ausgabe\n",
    "print(\"\\nMAE: \\t\" + str(\"%.5f\" % mae))"
   ]
  },
  {
   "cell_type": "markdown",
   "metadata": {},
   "source": [
    "### 7. Visualisierung Zusammenhang Alpha-Wert und MAE\n",
    "\n",
    "Um den Einfluss des alpha-Wertes zu beurteilen werden 80 Modelle mit verschiedenen alpha-Werten trainiert und jeweils der RMSE berechnet.\n",
    "\n",
    "TODO:\n",
    "- Wähle den niedrigsten und höchsten alpha-Wert (alpha_min, alpha_max), es werden 80 Modelle mit varrierendem alpha-Wert beginnend beim niedrigsten und endend beim höchsten alpha-Wert berechnet (10. Code-Block - Zeile 4 & 5)\n",
    "- Beginne mit einer großen Spanne für alpha (z.B. 0.0001 - 3) und taste dich schrittweise an das Optimum an.\n",
    "- Ausführen des 11. Code-Blocks (markieren und \"Run\" drücken)\n",
    "\n",
    "AUSGABE:\n",
    "- Graph: Zusammenhang Alpha-Wert und RMSE (bzw. Modellgüte)"
   ]
  },
  {
   "cell_type": "code",
   "execution_count": 59,
   "metadata": {},
   "outputs": [
    {
     "name": "stdout",
     "output_type": "stream",
     "text": [
      "[7, 7, 7, 7, 7, 7, 7, 7, 7, 7, 7, 7, 7, 7, 7, 7, 7, 7, 7, 7, 7, 7, 6, 6, 6, 6, 6, 6, 6, 6, 6, 6, 6, 6, 6, 6, 6, 6, 5, 5, 5, 5, 5, 4, 4, 4, 4, 4, 4, 4, 4, 4, 4, 4, 4, 4, 4, 4, 4, 4, 4, 4, 4, 4, 4, 4, 4, 4, 4, 4, 4, 4, 4, 4, 4, 4, 4, 4, 4, 4]\n",
      "[   0.         -101.44370879   51.62202981    0.            2.47478837\n",
      "    0.          -13.38677613]\n",
      "\n",
      "Geringster MAE (höchste Genauigkeit des Modells) bei einem alpha-Wert von 0.00000.\n"
     ]
    },
    {
     "data": {
      "image/png": "[encoded data removed]",
      "text/plain": [
       "<Figure size 1152x936 with 2 Axes>"
      ]
     },
     "metadata": {
      "needs_background": "light"
     },
     "output_type": "display_data"
    }
   ],
   "source": [
    "# 11. Code-Block\n",
    "\n",
    "# Einstellen des Lasso-Strafterms/alpha-Wertes\n",
    "alpha_min = 0.0000001  # Nicht 0 einsetzten, z.B. 0.0000001\n",
    "alpha_max = 0.4  # z.B. 2.0\n",
    "\n",
    "# Trainiere 80 Modelle mit Hyperparameter alpha zwischen lasso_begin und lasso_end\n",
    "list_MAE = []\n",
    "list_varcount = []\n",
    "alphas = np.linspace(alpha_min, alpha_max, 80)\n",
    "for alpha in alphas:\n",
    "\n",
    "    # Erstelle und Trainiere Lineares Modell\n",
    "    lasso = linear_model.Lasso(alpha=(alpha))\n",
    "    lasso.fit(X_train, y_train)\n",
    "\n",
    "    # Berechne Vorhersage und RMSE\n",
    "    y_P_test = lasso.predict(X_test)\n",
    "    y_pred = lasso.predict(X_test)\n",
    "    list_MAE.append(mean_absolute_error(y_test, y_pred))\n",
    "\n",
    "    # Zähle Variablen nicht 0\n",
    "    coefs = 0\n",
    "    for coef in lasso.coef_:\n",
    "        if coef != 0:\n",
    "            coefs += 1\n",
    "    list_varcount.append(coefs)\n",
    "print(list_varcount)\n",
    "print(lasso.coef_)\n",
    "\n",
    "# Ausgabe Graphen\n",
    "idx_min = list_MAE.index(min(list_MAE))\n",
    "plt.figure(figsize=(16, 13))\n",
    "plt.subplot(2, 1, 1)\n",
    "plt.plot(alphas, list_MAE, \"o--\")\n",
    "plt.xlabel(\"Alpha-Werte der Modelle \")\n",
    "plt.ylabel(\"MAE\")\n",
    "plt.title(\"Modellgüte (MAE) in Abhängigkeit des alpha-Wertes (Lasso-Strafterm)\")\n",
    "plt.plot(alphas[idx_min], list_MAE[idx_min], \"ro\")\n",
    "plt.subplot(2, 1, 2)\n",
    "plt.plot(alphas, list_varcount, \"o--\")\n",
    "plt.xlabel(\"Alpha-Werte der Modelle\")\n",
    "plt.ylabel(\"Anzahl Varibalen im Modell\")\n",
    "plt.title(\n",
    "    \"Anzahl Variablen im Modell in Abhängigkeit des alpha-Wertes (Lasso-Strafterm)\"\n",
    ")\n",
    "plt.plot(alphas[idx_min], list_varcount[idx_min], \"ro\")\n",
    "\n",
    "# Ausgabe bester alpha-Wert\n",
    "print(\n",
    "    \"\\nGeringster MAE (höchste Genauigkeit des Modells) bei einem alpha-Wert von \"\n",
    "    + str(\"%.5f\" % alphas[idx_min])\n",
    "    + \".\"\n",
    ")"
   ]
  },
  {
   "cell_type": "markdown",
   "metadata": {},
   "source": [
    "### Verständnisfragen:\n",
    "\n",
    "1. Welche Vorteile/Unterschiede besitzt die Lineare Regression mit LASSO gegenüber der Linearen Regression?\n",
    "2. Welcher Alpha-Wert ergibt den geringsten MAE für das Problem in diesem Notebook? Wie viele und welche Variablen enthält das Modell mit diesem alpha-Wert? Welchen MAE hat das Modell?"
   ]
  },
  {
   "cell_type": "code",
   "execution_count": null,
   "metadata": {},
   "outputs": [],
   "source": []
  }
 ],
 "metadata": {
  "file_extension": ".py",
  "kernelspec": {
   "display_name": "Python 3",
   "language": "python",
   "name": "python3"
  },
  "language_info": {
   "codemirror_mode": {
    "name": "ipython",
    "version": 3
   },
   "file_extension": ".py",
   "mimetype": "text/x-python",
   "name": "python",
   "nbconvert_exporter": "python",
   "pygments_lexer": "ipython3",
   "version": "3.7.4"
  },
  "mimetype": "text/x-python",
  "name": "python",
  "npconvert_exporter": "python",
  "pygments_lexer": "ipython3",
  "version": 3
 },
 "nbformat": 4,
 "nbformat_minor": 2
}
