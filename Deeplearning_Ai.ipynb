{
  "nbformat": 4,
  "nbformat_minor": 0,
  "metadata": {
    "colab": {
      "name": "Deeplearning.Ai.ipynb",
      "provenance": [],
      "toc_visible": true,
      "authorship_tag": "ABX9TyOrqEWf3UEmZg2hiAP6wgJp",
      "include_colab_link": true
    },
    "kernelspec": {
      "name": "python3",
      "display_name": "Python 3"
    },
    "language_info": {
      "name": "python"
    }
  },
  "cells": [
    {
      "cell_type": "markdown",
      "metadata": {
        "id": "view-in-github",
        "colab_type": "text"
      },
      "source": [
        "<a href=\"https://colab.research.google.com/github/luxc1101/ML/blob/master/Deeplearning_Ai.ipynb\" target=\"_parent\"><img src=\"https://colab.research.google.com/assets/colab-badge.svg\" alt=\"Open In Colab\"/></a>"
      ]
    },
    {
      "cell_type": "markdown",
      "metadata": {
        "id": "dBWgoYSO6IU1"
      },
      "source": [
        "# Online Curse script \n",
        "This script is based on the online curse Deeplerning.AI from Andrew Ng (coursera Deeplerning.AI)"
      ]
    },
    {
      "cell_type": "markdown",
      "metadata": {
        "id": "CMOu0zqx6eQk"
      },
      "source": [
        "## A Note on Python/Numpy Vectors"
      ]
    },
    {
      "cell_type": "code",
      "metadata": {
        "id": "5RHEj27D4wzY",
        "outputId": "193b5461-003a-4ff9-fc83-0ad384735998",
        "colab": {
          "base_uri": "https://localhost:8080/"
        }
      },
      "source": [
        "import numpy as np\n",
        "\n",
        "a = np.random.randn(5) # 5 random gauss distribut number\n",
        "a"
      ],
      "execution_count": 5,
      "outputs": [
        {
          "output_type": "execute_result",
          "data": {
            "text/plain": [
              "array([-0.8993467 , -1.73749907,  1.29063312,  1.70090919,  0.61341639])"
            ]
          },
          "metadata": {
            "tags": []
          },
          "execution_count": 5
        }
      ]
    },
    {
      "cell_type": "code",
      "metadata": {
        "id": "HhDU-BTT5G2t",
        "outputId": "62152f67-31a8-4d7f-985b-1a3276a1b809",
        "colab": {
          "base_uri": "https://localhost:8080/"
        }
      },
      "source": [
        "a.shape # niether row vector nor colume vector"
      ],
      "execution_count": 6,
      "outputs": [
        {
          "output_type": "execute_result",
          "data": {
            "text/plain": [
              "(5,)"
            ]
          },
          "metadata": {
            "tags": []
          },
          "execution_count": 6
        }
      ]
    },
    {
      "cell_type": "code",
      "metadata": {
        "id": "ZelnKqPR5Y14",
        "outputId": "96501fd3-3250-4dfd-f119-3775b5b739ea",
        "colab": {
          "base_uri": "https://localhost:8080/"
        }
      },
      "source": [
        "print(a.T)"
      ],
      "execution_count": 7,
      "outputs": [
        {
          "output_type": "stream",
          "text": [
            "[-0.8993467  -1.73749907  1.29063312  1.70090919  0.61341639]\n"
          ],
          "name": "stdout"
        }
      ]
    },
    {
      "cell_type": "code",
      "metadata": {
        "id": "K7CNLjWV5tx7",
        "outputId": "24ca32d2-2ac0-4a28-94e5-d7940b07c079",
        "colab": {
          "base_uri": "https://localhost:8080/"
        }
      },
      "source": [
        "print(np.dot(a,a.T))"
      ],
      "execution_count": 8,
      "outputs": [
        {
          "output_type": "stream",
          "text": [
            "8.762833093746323\n"
          ],
          "name": "stdout"
        }
      ]
    },
    {
      "cell_type": "code",
      "metadata": {
        "id": "YqIKE7vt51ox",
        "outputId": "4b000b56-383b-40f5-aa0b-0c2f7399f159",
        "colab": {
          "base_uri": "https://localhost:8080/"
        }
      },
      "source": [
        "a = np.random.randn(5,1) \n",
        "a"
      ],
      "execution_count": 10,
      "outputs": [
        {
          "output_type": "execute_result",
          "data": {
            "text/plain": [
              "array([[ 1.04395191],\n",
              "       [-0.04389284],\n",
              "       [-0.735084  ],\n",
              "       [-2.28718941],\n",
              "       [-0.2053788 ]])"
            ]
          },
          "metadata": {
            "tags": []
          },
          "execution_count": 10
        }
      ]
    },
    {
      "cell_type": "code",
      "metadata": {
        "id": "lYq-I27G58eg",
        "outputId": "e6efd424-fba3-43d6-9c7b-69479c016b7a",
        "colab": {
          "base_uri": "https://localhost:8080/"
        }
      },
      "source": [
        "print(a.T)"
      ],
      "execution_count": 11,
      "outputs": [
        {
          "output_type": "stream",
          "text": [
            "[[ 1.04395191 -0.04389284 -0.735084   -2.28718941 -0.2053788 ]]\n"
          ],
          "name": "stdout"
        }
      ]
    },
    {
      "cell_type": "code",
      "metadata": {
        "id": "hLT-C5-d5_u5",
        "outputId": "8d8838aa-19ee-4f02-e917-38627bda99af",
        "colab": {
          "base_uri": "https://localhost:8080/"
        }
      },
      "source": [
        "print(np.dot(a,a.T))"
      ],
      "execution_count": 12,
      "outputs": [
        {
          "output_type": "stream",
          "text": [
            "[[ 1.08983560e+00 -4.58220171e-02 -7.67392349e-01 -2.38771576e+00\n",
            "  -2.14405587e-01]\n",
            " [-4.58220171e-02  1.92658164e-03  3.22649264e-02  1.00391245e-01\n",
            "   9.01465920e-03]\n",
            " [-7.67392349e-01  3.22649264e-02  5.40348488e-01  1.68127634e+00\n",
            "   1.50970667e-01]\n",
            " [-2.38771576e+00  1.00391245e-01  1.68127634e+00  5.23123538e+00\n",
            "   4.69740207e-01]\n",
            " [-2.14405587e-01  9.01465920e-03  1.50970667e-01  4.69740207e-01\n",
            "   4.21804499e-02]]\n"
          ],
          "name": "stdout"
        }
      ]
    },
    {
      "cell_type": "code",
      "metadata": {
        "id": "BeKxk0V66DyI"
      },
      "source": [
        ""
      ],
      "execution_count": null,
      "outputs": []
    }
  ]
}